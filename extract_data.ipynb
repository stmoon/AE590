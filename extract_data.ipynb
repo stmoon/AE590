{
 "cells": [
  {
   "cell_type": "markdown",
   "metadata": {},
   "source": [
    "# Extract string angle from handle image"
   ]
  },
  {
   "cell_type": "code",
   "execution_count": 30,
   "metadata": {},
   "outputs": [],
   "source": [
    "import numpy as np\n",
    "import imutils\n",
    "import cv2\n",
    "import cv2.aruco as aruco\n",
    "from numpy.linalg import norm\n",
    "import math\n"
   ]
  },
  {
   "cell_type": "code",
   "execution_count": 37,
   "metadata": {},
   "outputs": [],
   "source": [
    "# Video data\n",
    "TEST_PATH = '/home/stmoon/Video/CarData3/20181102_163933.mp4'\n",
    "# TEST_PATH = '/home/stmoon/Data/car/20181102_163625.mp4'\n",
    "OUTPUT_PATH = 'data/out2/'\n",
    "CAMERA_INFO = './camera.yaml'\n",
    "OFFSET = -180\n",
    "isSave = False\n",
    "isDisplay = True"
   ]
  },
  {
   "cell_type": "code",
   "execution_count": 40,
   "metadata": {},
   "outputs": [],
   "source": [
    "def attitude(rvec, tvec ):\n",
    "    rvec_matrix = cv2.Rodrigues(rvec)[0]\n",
    "    proj_matrix = np.hstack((rvec_matrix, tvec.T))\n",
    "    eulerAngles = cv2.decomposeProjectionMatrix(proj_matrix)[6]\n",
    "    \n",
    "    yaw   = -eulerAngles[1]\n",
    "    pitch =  eulerAngles[0]\n",
    "    roll  =  eulerAngles[2]\n",
    "    \n",
    "    return roll, pitch, yaw"
   ]
  },
  {
   "cell_type": "code",
   "execution_count": 33,
   "metadata": {},
   "outputs": [],
   "source": [
    "def tuningAngle__(angle) :\n",
    "    angle = ( 720 + angle ) % 360\n",
    "    return  angle + OFFSET\n",
    "\n",
    "addition = 0 \n",
    "def tuningAngle(prev_angle, angle) :\n",
    "    global addition\n",
    "\n",
    "    if prev_angle > 100  and angle  < -100 :\n",
    "        addition += 360\n",
    "    if prev_angle < -100 and angle > 100 :\n",
    "        addition -= 360\n",
    "\n",
    "    return  angle + addition + OFFSET"
   ]
  },
  {
   "cell_type": "code",
   "execution_count": 34,
   "metadata": {},
   "outputs": [],
   "source": [
    "def handle2steering(handle) :\n",
    "    return 0.0734*handle - 0.551"
   ]
  },
  {
   "cell_type": "markdown",
   "metadata": {},
   "source": [
    "### search cross point of two lines \n",
    "- refer : http://www.gisdeveloper.co.kr/?p=89\n",
    "\n",
    "- equation\n",
    "![](http://www.gisdeveloper.co.kr/wp-content/uploads/1/884485.gif)\n",
    "\n",
    "- parameter\n",
    "\n",
    "![](http://www.gisdeveloper.co.kr/wp-content/uploads/1/267312.gif)\n",
    "\n",
    "- 교점\n",
    "![](http://www.gisdeveloper.co.kr/wp-content/uploads/1/656905.gif)\n"
   ]
  },
  {
   "cell_type": "code",
   "execution_count": 35,
   "metadata": {},
   "outputs": [],
   "source": [
    "def centerMarker(corners) :\n",
    "    p1 = corners[0][0][0]\n",
    "    p2 = corners[0][0][2]\n",
    "    p3 = corners[0][0][1]\n",
    "    p4 = corners[0][0][3]\n",
    "    \n",
    "    x1,y1 = p1\n",
    "    x2,y2 = p2\n",
    "    x3,y3 = p3\n",
    "    x4,y4 = p4\n",
    "    \n",
    "    t = ((x4-x3)*(y1-y3)-(y4-y3)*(x1-x3)) / ((y4-y3)*(x2-x1)-(x4-x3)*(y2-y1))\n",
    "    s = ((x2-x1)*(y1-y3)-(y2-y1)*(x1-x3)) / ((y4-y3)*(x2-x1)-(x4-x3)*(y2-y1))\n",
    "    \n",
    "    cx = x1 + s*(x2-x1)\n",
    "    cy = y1 + s*(y2-y1)\n",
    "    \n",
    "    return (int(cx),int(cy))\n",
    "    "
   ]
  },
  {
   "cell_type": "code",
   "execution_count": 42,
   "metadata": {},
   "outputs": [
    {
     "ename": "ValueError",
     "evalue": "axes don't match array",
     "output_type": "error",
     "traceback": [
      "\u001b[0;31m---------------------------------------------------------------------------\u001b[0m",
      "\u001b[0;31mAttributeError\u001b[0m                            Traceback (most recent call last)",
      "\u001b[0;32m~/Project/Env/JupyterLab/lib/python3.6/site-packages/numpy/core/fromnumeric.py\u001b[0m in \u001b[0;36m_wrapfunc\u001b[0;34m(obj, method, *args, **kwds)\u001b[0m\n\u001b[1;32m     51\u001b[0m     \u001b[0;32mtry\u001b[0m\u001b[0;34m:\u001b[0m\u001b[0;34m\u001b[0m\u001b[0m\n\u001b[0;32m---> 52\u001b[0;31m         \u001b[0;32mreturn\u001b[0m \u001b[0mgetattr\u001b[0m\u001b[0;34m(\u001b[0m\u001b[0mobj\u001b[0m\u001b[0;34m,\u001b[0m \u001b[0mmethod\u001b[0m\u001b[0;34m)\u001b[0m\u001b[0;34m(\u001b[0m\u001b[0;34m*\u001b[0m\u001b[0margs\u001b[0m\u001b[0;34m,\u001b[0m \u001b[0;34m**\u001b[0m\u001b[0mkwds\u001b[0m\u001b[0;34m)\u001b[0m\u001b[0;34m\u001b[0m\u001b[0m\n\u001b[0m\u001b[1;32m     53\u001b[0m \u001b[0;34m\u001b[0m\u001b[0m\n",
      "\u001b[0;31mAttributeError\u001b[0m: 'NoneType' object has no attribute 'transpose'",
      "\nDuring handling of the above exception, another exception occurred:\n",
      "\u001b[0;31mValueError\u001b[0m                                Traceback (most recent call last)",
      "\u001b[0;32m<ipython-input-42-c16263323a1f>\u001b[0m in \u001b[0;36m<module>\u001b[0;34m()\u001b[0m\n\u001b[1;32m     21\u001b[0m \u001b[0;34m\u001b[0m\u001b[0m\n\u001b[1;32m     22\u001b[0m     \u001b[0;31m# Rotate -90\u001b[0m\u001b[0;34m\u001b[0m\u001b[0;34m\u001b[0m\u001b[0m\n\u001b[0;32m---> 23\u001b[0;31m     \u001b[0mframe\u001b[0m \u001b[0;34m=\u001b[0m \u001b[0mnp\u001b[0m\u001b[0;34m.\u001b[0m\u001b[0mtranspose\u001b[0m\u001b[0;34m(\u001b[0m\u001b[0mframe\u001b[0m\u001b[0;34m,\u001b[0m \u001b[0maxes\u001b[0m\u001b[0;34m=\u001b[0m\u001b[0;34m(\u001b[0m\u001b[0;36m1\u001b[0m\u001b[0;34m,\u001b[0m\u001b[0;36m0\u001b[0m\u001b[0;34m,\u001b[0m\u001b[0;36m2\u001b[0m\u001b[0;34m)\u001b[0m\u001b[0;34m)\u001b[0m\u001b[0;34m.\u001b[0m\u001b[0mastype\u001b[0m\u001b[0;34m(\u001b[0m\u001b[0mnp\u001b[0m\u001b[0;34m.\u001b[0m\u001b[0muint8\u001b[0m\u001b[0;34m)\u001b[0m\u001b[0;34m.\u001b[0m\u001b[0mcopy\u001b[0m\u001b[0;34m(\u001b[0m\u001b[0;34m)\u001b[0m\u001b[0;34m\u001b[0m\u001b[0m\n\u001b[0m\u001b[1;32m     24\u001b[0m     \u001b[0mframe\u001b[0m \u001b[0;34m=\u001b[0m \u001b[0mcv2\u001b[0m\u001b[0;34m.\u001b[0m\u001b[0mflip\u001b[0m\u001b[0;34m(\u001b[0m\u001b[0mframe\u001b[0m\u001b[0;34m,\u001b[0m \u001b[0;36m1\u001b[0m\u001b[0;34m)\u001b[0m\u001b[0;34m\u001b[0m\u001b[0m\n\u001b[1;32m     25\u001b[0m \u001b[0;34m\u001b[0m\u001b[0m\n",
      "\u001b[0;32m~/Project/Env/JupyterLab/lib/python3.6/site-packages/numpy/core/fromnumeric.py\u001b[0m in \u001b[0;36mtranspose\u001b[0;34m(a, axes)\u001b[0m\n\u001b[1;32m    573\u001b[0m \u001b[0;34m\u001b[0m\u001b[0m\n\u001b[1;32m    574\u001b[0m     \"\"\"\n\u001b[0;32m--> 575\u001b[0;31m     \u001b[0;32mreturn\u001b[0m \u001b[0m_wrapfunc\u001b[0m\u001b[0;34m(\u001b[0m\u001b[0ma\u001b[0m\u001b[0;34m,\u001b[0m \u001b[0;34m'transpose'\u001b[0m\u001b[0;34m,\u001b[0m \u001b[0maxes\u001b[0m\u001b[0;34m)\u001b[0m\u001b[0;34m\u001b[0m\u001b[0m\n\u001b[0m\u001b[1;32m    576\u001b[0m \u001b[0;34m\u001b[0m\u001b[0m\n\u001b[1;32m    577\u001b[0m \u001b[0;34m\u001b[0m\u001b[0m\n",
      "\u001b[0;32m~/Project/Env/JupyterLab/lib/python3.6/site-packages/numpy/core/fromnumeric.py\u001b[0m in \u001b[0;36m_wrapfunc\u001b[0;34m(obj, method, *args, **kwds)\u001b[0m\n\u001b[1;32m     60\u001b[0m     \u001b[0;31m# a downstream library like 'pandas'.\u001b[0m\u001b[0;34m\u001b[0m\u001b[0;34m\u001b[0m\u001b[0m\n\u001b[1;32m     61\u001b[0m     \u001b[0;32mexcept\u001b[0m \u001b[0;34m(\u001b[0m\u001b[0mAttributeError\u001b[0m\u001b[0;34m,\u001b[0m \u001b[0mTypeError\u001b[0m\u001b[0;34m)\u001b[0m\u001b[0;34m:\u001b[0m\u001b[0;34m\u001b[0m\u001b[0m\n\u001b[0;32m---> 62\u001b[0;31m         \u001b[0;32mreturn\u001b[0m \u001b[0m_wrapit\u001b[0m\u001b[0;34m(\u001b[0m\u001b[0mobj\u001b[0m\u001b[0;34m,\u001b[0m \u001b[0mmethod\u001b[0m\u001b[0;34m,\u001b[0m \u001b[0;34m*\u001b[0m\u001b[0margs\u001b[0m\u001b[0;34m,\u001b[0m \u001b[0;34m**\u001b[0m\u001b[0mkwds\u001b[0m\u001b[0;34m)\u001b[0m\u001b[0;34m\u001b[0m\u001b[0m\n\u001b[0m\u001b[1;32m     63\u001b[0m \u001b[0;34m\u001b[0m\u001b[0m\n\u001b[1;32m     64\u001b[0m \u001b[0;34m\u001b[0m\u001b[0m\n",
      "\u001b[0;32m~/Project/Env/JupyterLab/lib/python3.6/site-packages/numpy/core/fromnumeric.py\u001b[0m in \u001b[0;36m_wrapit\u001b[0;34m(obj, method, *args, **kwds)\u001b[0m\n\u001b[1;32m     40\u001b[0m     \u001b[0;32mexcept\u001b[0m \u001b[0mAttributeError\u001b[0m\u001b[0;34m:\u001b[0m\u001b[0;34m\u001b[0m\u001b[0m\n\u001b[1;32m     41\u001b[0m         \u001b[0mwrap\u001b[0m \u001b[0;34m=\u001b[0m \u001b[0;32mNone\u001b[0m\u001b[0;34m\u001b[0m\u001b[0m\n\u001b[0;32m---> 42\u001b[0;31m     \u001b[0mresult\u001b[0m \u001b[0;34m=\u001b[0m \u001b[0mgetattr\u001b[0m\u001b[0;34m(\u001b[0m\u001b[0masarray\u001b[0m\u001b[0;34m(\u001b[0m\u001b[0mobj\u001b[0m\u001b[0;34m)\u001b[0m\u001b[0;34m,\u001b[0m \u001b[0mmethod\u001b[0m\u001b[0;34m)\u001b[0m\u001b[0;34m(\u001b[0m\u001b[0;34m*\u001b[0m\u001b[0margs\u001b[0m\u001b[0;34m,\u001b[0m \u001b[0;34m**\u001b[0m\u001b[0mkwds\u001b[0m\u001b[0;34m)\u001b[0m\u001b[0;34m\u001b[0m\u001b[0m\n\u001b[0m\u001b[1;32m     43\u001b[0m     \u001b[0;32mif\u001b[0m \u001b[0mwrap\u001b[0m\u001b[0;34m:\u001b[0m\u001b[0;34m\u001b[0m\u001b[0m\n\u001b[1;32m     44\u001b[0m         \u001b[0;32mif\u001b[0m \u001b[0;32mnot\u001b[0m \u001b[0misinstance\u001b[0m\u001b[0;34m(\u001b[0m\u001b[0mresult\u001b[0m\u001b[0;34m,\u001b[0m \u001b[0mmu\u001b[0m\u001b[0;34m.\u001b[0m\u001b[0mndarray\u001b[0m\u001b[0;34m)\u001b[0m\u001b[0;34m:\u001b[0m\u001b[0;34m\u001b[0m\u001b[0m\n",
      "\u001b[0;31mValueError\u001b[0m: axes don't match array"
     ]
    }
   ],
   "source": [
    "cv_file = cv2.FileStorage(CAMERA_INFO, cv2.FILE_STORAGE_READ)\n",
    "\n",
    "mtx = cv_file.getNode(\"camera_matrix\").mat()\n",
    "dist = cv_file.getNode(\"dist_coeff\").mat()\n",
    "\n",
    "cap = cv2.VideoCapture(TEST_PATH)\n",
    "\n",
    "# video recorder\n",
    "fourcc = cv2.VideoWriter_fourcc(*'XVID')\n",
    "video_writer = cv2.VideoWriter(\"output.avi\", fourcc, 20, (1080, 1920))\n",
    "\n",
    "# TEST: check roll\n",
    "angle_list = []\n",
    "    \n",
    "prev_roll = 0\n",
    "count = 0\n",
    "while(True):\n",
    "    # Capture frame-by-frame\n",
    "    ret, frame = cap.read()\n",
    "\n",
    "    \n",
    "    # Rotate -90 \n",
    "    frame = np.transpose(frame, axes=(1,0,2)).astype(np.uint8).copy() \n",
    "    frame = cv2.flip(frame, 1)\n",
    "    \n",
    "    # change image for gray image processing\n",
    "    gray = cv2.cvtColor(frame, cv2.COLOR_BGR2GRAY)\n",
    "    #gray = cv2.adaptiveThreshold(gray, 255, cv2.ADAPTIVE_THRESH_GAUSSIAN_C, cv2.THRESH_BINARY, 15, 2)\n",
    "\n",
    "    # aruco information\n",
    "    aruco_dict = aruco.Dictionary_get(aruco.DICT_4X4_100)\n",
    "    parameters =  aruco.DetectorParameters_create()  \n",
    "    \n",
    "    # lists of ids and the corners beloning to each id\n",
    "    corners, ids, rejectedImgPoints = aruco.detectMarkers(gray, aruco_dict, parameters=parameters)\n",
    "    cx,cy = 0,0\n",
    "    # calculate attitude if marker is found.\n",
    "    if np.all(ids == 2) :  \n",
    "        rvec, tvec, _ = aruco.estimatePoseSingleMarkers(corners[0], 0.1, mtx, dist)        \n",
    "        roll, pitch, yaw = attitude(rvec[0], tvec[0])\n",
    "        tunangle = tuningAngle(prev_roll, roll)\n",
    "        angle = handle2steering(tunangle)\n",
    "        prev_roll = roll\n",
    "        angle_list.append(tunangle)\n",
    "\n",
    "        aruco.drawAxis(frame, mtx, dist, rvec[0], tvec[0], 0.01)\n",
    "        aruco.drawDetectedMarkers(frame, corners)\n",
    "\n",
    "        cx,cy = centerMarker(corners)\n",
    "        \n",
    "    else  :\n",
    "        continue\n",
    "    \n",
    "    left = cx - 150\n",
    "    top = cy - 1050\n",
    "    width = 700\n",
    "    height = 500\n",
    "\n",
    "    # save the image (image_[num]_[angle].png)\n",
    "    if isSave :\n",
    "        crop_img =  frame[top:top+height, left:left+width]\n",
    "        fn = OUTPUT_PATH + \"/image_%04d_%.2f.png\" % (count, angle)\n",
    "        cv2.imwrite( fn, crop_img );\n",
    "\n",
    "    # display image to save \n",
    "    if isDisplay :\n",
    "        cv2.rectangle(frame,(left,top),(left+width,top+height),(0,0,255),3)    \n",
    "        cv2.rectangle(frame,(cx,cy),(cx+10,cy+10),(0,0,255),3)\n",
    "        \n",
    "        # display steering angle\n",
    "        str = \"%f,%f\"%(angle, tunangle)\n",
    "#         print(str)\n",
    "                                \n",
    "        font = cv2.FONT_HERSHEY_SIMPLEX\n",
    "        cv2.putText(frame, str,(700,500), font, 1,(255,255,255),2,cv2.LINE_AA)\n",
    "    \n",
    "        # display the resulting frame\n",
    "        #video_writer.write(frame)\n",
    "        cv2.imshow('frame', frame)\n",
    "        if cv2.waitKey(1) & 0xFF == ord('q'):\n",
    "           break\n",
    "\n",
    "    count += 1\n",
    "\n",
    "# when everything done, release the capture\n",
    "video_writer.release()\n",
    "cap.release()\n",
    "cv2.destroyAllWindows()\n",
    "\n"
   ]
  },
  {
   "cell_type": "code",
   "execution_count": 41,
   "metadata": {},
   "outputs": [
    {
     "data": {
      "image/png": "[encoded data removed]",
      "text/plain": [
       "<Figure size 432x288 with 1 Axes>"
      ]
     },
     "metadata": {},
     "output_type": "display_data"
    }
   ],
   "source": [
    "import matplotlib.pyplot as plt\n",
    "\n",
    "plt.plot(angle_list)\n",
    "plt.show()"
   ]
  },
  {
   "cell_type": "code",
   "execution_count": 27,
   "metadata": {},
   "outputs": [
    {
     "data": {
      "image/png": "[encoded data removed]",
      "text/plain": [
       "<Figure size 432x288 with 1 Axes>"
      ]
     },
     "metadata": {},
     "output_type": "display_data"
    }
   ],
   "source": [
    "import matplotlib.pyplot as plt\n",
    "\n",
    "addition = 0 \n",
    "def tuningAngle1(prev_angle, angle) :\n",
    "    global addition\n",
    "\n",
    "    if prev_angle > 100  and angle  < -100 :\n",
    "        addition += 360\n",
    "    if prev_angle < -100 and angle > 100 :\n",
    "        addition -= 360\n",
    "\n",
    "    return  angle + addition + OFFSET\n",
    "\n",
    "# print(angle_list[150:250])\n",
    "angles = []\n",
    "prev_a = 0\n",
    "for a in angle_list :\n",
    "    value = tuningAngle1(prev_a, a)\n",
    "    angles.append(value)\n",
    "    prev_a = a\n",
    "    \n",
    "plt.plot(angles)\n",
    "plt.show()"
   ]
  },
  {
   "cell_type": "code",
   "execution_count": 218,
   "metadata": {},
   "outputs": [
    {
     "data": {
      "text/plain": [
       "359"
      ]
     },
     "execution_count": 218,
     "metadata": {},
     "output_type": "execute_result"
    }
   ],
   "source": [
    "-1 % 360\n"
   ]
  }
 ],
 "metadata": {
  "kernelspec": {
   "display_name": "Python 3",
   "language": "python",
   "name": "python3"
  },
  "language_info": {
   "codemirror_mode": {
    "name": "ipython",
    "version": 3
   },
   "file_extension": ".py",
   "mimetype": "text/x-python",
   "name": "python",
   "nbconvert_exporter": "python",
   "pygments_lexer": "ipython3",
   "version": "3.6.5"
  }
 },
 "nbformat": 4,
 "nbformat_minor": 2
}
