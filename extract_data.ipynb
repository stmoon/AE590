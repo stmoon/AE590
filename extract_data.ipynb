{
 "cells": [
  {
   "cell_type": "markdown",
   "metadata": {},
   "source": [
    "# Extract string angle from handle image"
   ]
  },
  {
   "cell_type": "code",
   "execution_count": 2,
   "metadata": {},
   "outputs": [],
   "source": [
    "import numpy as np\n",
    "import imutils\n",
    "import cv2\n",
    "import cv2.aruco as aruco\n",
    "from numpy.linalg import norm\n",
    "import math\n"
   ]
  },
  {
   "cell_type": "code",
   "execution_count": 4,
   "metadata": {},
   "outputs": [],
   "source": [
    "# Video data\n",
    "TEST_PATH = '/home/stmoon/Video/CarData3/20181102_163625.mp4'\n",
    "CAMERA_INFO = './camera.yaml'\n"
   ]
  },
  {
   "cell_type": "code",
   "execution_count": 5,
   "metadata": {},
   "outputs": [],
   "source": [
    "def attitude(rvec, tvec ):\n",
    "    rvec_matrix = cv2.Rodrigues(rvec)[0]\n",
    "    proj_matrix = np.hstack((rvec_matrix, tvec.T))\n",
    "    eulerAngles = cv2.decomposeProjectionMatrix(proj_matrix)[6]\n",
    "    \n",
    "    #print(eulerAngles)\n",
    "    yaw   = eulerAngles[1]\n",
    "    pitch = eulerAngles[0]\n",
    "    roll  = eulerAngles[2]\n",
    "#     if roll > 0:\n",
    "#         roll = 180 - roll  \n",
    "#     elif roll < 0:\n",
    "#         roll = -180 - roll \n",
    "    yaw = -yaw\n",
    "\n",
    "    #angle = (angle + 720) % 360\n",
    "\n",
    "    return roll, pitch, yaw"
   ]
  },
  {
   "cell_type": "code",
   "execution_count": 6,
   "metadata": {},
   "outputs": [],
   "source": [
    "def handle2steering(handle) :\n",
    "    return 0.0734*handle - 0.551"
   ]
  },
  {
   "cell_type": "code",
   "execution_count": null,
   "metadata": {},
   "outputs": [],
   "source": [
    "cv_file = cv2.FileStorage(CAMERA_INFO, cv2.FILE_STORAGE_READ)\n",
    "\n",
    "mtx = cv_file.getNode(\"camera_matrix\").mat()\n",
    "dist = cv_file.getNode(\"dist_coeff\").mat()\n",
    "\n",
    "cap = cv2.VideoCapture(TEST_PATH)\n",
    "\n",
    "# video recorder\n",
    "fourcc = cv2.VideoWriter_fourcc(*'XVID')\n",
    "video_writer = cv2.VideoWriter(\"output.avi\", fourcc, 20, (1080, 1920))\n",
    "    \n",
    "count = 0\n",
    "\n",
    "while(True):\n",
    "    # Capture frame-by-frame\n",
    "    ret, frame = cap.read()\n",
    "\n",
    "    \n",
    "    # Rotate -90 \n",
    "    frame = np.transpose(frame, axes=(1,0,2)).astype(np.uint8).copy() \n",
    "    frame = cv2.flip(frame, 1)\n",
    "    \n",
    "    # change image for gray image processing\n",
    "    gray = cv2.cvtColor(frame, cv2.COLOR_BGR2GRAY)\n",
    "    #gray = cv2.adaptiveThreshold(gray, 255, cv2.ADAPTIVE_THRESH_GAUSSIAN_C, cv2.THRESH_BINARY, 15, 2)\n",
    "\n",
    "    # aruco information\n",
    "    aruco_dict = aruco.Dictionary_get(aruco.DICT_4X4_100)\n",
    "    parameters =  aruco.DetectorParameters_create()\n",
    "\n",
    "    # lists of ids and the corners beloning to each id\n",
    "    corners, ids, rejectedImgPoints = aruco.detectMarkers(gray, aruco_dict, parameters=parameters)\n",
    "\n",
    "    # calculate attitude if marker is found.\n",
    "    if np.all(ids == 2) :  \n",
    "        \n",
    "        rvec, tvec, _ = aruco.estimatePoseSingleMarkers(corners[0], 0.1, mtx, dist)\n",
    "        \n",
    "        roll, pitch, yaw = attitude(rvec[0], tvec[0])\n",
    "#         print(rvec[0])\n",
    "#         print(roll + 90, pitch, yaw)\n",
    "        angle = handle2steering(roll+180)\n",
    "\n",
    "        aruco.drawAxis(frame, mtx, dist, rvec[0], tvec[0], 0.01)\n",
    "        aruco.drawDetectedMarkers(frame, corners)\n",
    "    else  :\n",
    "        continue\n",
    "\n",
    "    left = 250\n",
    "    top = 300\n",
    "    width = 600\n",
    "    height = 500\n",
    "\n",
    "    \n",
    "    # save the image (image_[num]_[angle].png)\n",
    "    crop_img =  frame[top:top+height, left:left+width]\n",
    "    fn = \"data/out2/image_%04d_%.2f.png\" % (count, angle)\n",
    "    cv2.imwrite( fn, crop_img );\n",
    "\n",
    "    \n",
    "    # display image to save \n",
    "    cv2.rectangle(frame,(left,top),(left+width,top+height),(0,0,255),3)\n",
    "    \n",
    "    \n",
    "    # display steering angle\n",
    "    str = \"%f\"%(roll+180)\n",
    "    font = cv2.FONT_HERSHEY_SIMPLEX\n",
    "    cv2.putText(frame, str,(700,500), font, 1,(255,255,255),2,cv2.LINE_AA)\n",
    "    \n",
    "    # display the resulting frame\n",
    "    #video_writer.write(frame)\n",
    "    cv2.imshow('frame', frame)\n",
    "    if cv2.waitKey(1) & 0xFF == ord('q'):\n",
    "       break\n",
    "    \n",
    "    count += 1\n",
    "\n",
    "# when everything done, release the capture\n",
    "video_writer.release()\n",
    "cap.release()\n",
    "cv2.destroyAllWindows()\n",
    "\n"
   ]
  },
  {
   "cell_type": "code",
   "execution_count": null,
   "metadata": {},
   "outputs": [],
   "source": []
  }
 ],
 "metadata": {
  "kernelspec": {
   "display_name": "Python 3",
   "language": "python",
   "name": "python3"
  },
  "language_info": {
   "codemirror_mode": {
    "name": "ipython",
    "version": 3
   },
   "file_extension": ".py",
   "mimetype": "text/x-python",
   "name": "python",
   "nbconvert_exporter": "python",
   "pygments_lexer": "ipython3",
   "version": "3.6.5"
  }
 },
 "nbformat": 4,
 "nbformat_minor": 2
}
